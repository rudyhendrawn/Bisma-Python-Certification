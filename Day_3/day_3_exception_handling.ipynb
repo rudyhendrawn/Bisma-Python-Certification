{
 "cells": [
  {
   "cell_type": "markdown",
   "metadata": {},
   "source": [
    "## Python Exeption Handling\n",
    "\n",
    "The `try` block lets you test a block of code for errors.\n",
    "\n",
    "The `except` block lets you handle the error.\n",
    "\n",
    "The `else` block lets you execute code when there is no error.\n",
    "\n",
    "The `finally` block lets you execute code, regardless of the result of the `try` and `except` blocks.\n",
    "\n",
    "Source: [w3schools](https://www.w3schools.com/python/python_try_except.asp)"
   ]
  },
  {
   "cell_type": "markdown",
   "metadata": {},
   "source": [
    "### Exception Handling\n",
    "\n",
    "When an error occurs, or exception as we call it, Python will normally stop and generate an error message.\n",
    "\n",
    "These exceptions can be handled using the try statement:\n",
    "\n",
    "```python\n",
    "try:\n",
    "\tprint(x)\n",
    "except:\n",
    "\tprint(\"An exception occurred\")\n",
    "```"
   ]
  },
  {
   "cell_type": "markdown",
   "metadata": {},
   "source": [
    "### Many Exceptions\n",
    "\n",
    "```python\n",
    "try:\n",
    "\tprint(x)\n",
    "except NameError:\n",
    "\tprint(\"Variable x is not defined\")\n",
    "except:\n",
    "\tprint(\"Something else went wrong\")\n",
    "```"
   ]
  },
  {
   "cell_type": "markdown",
   "metadata": {},
   "source": [
    "### Else\n",
    "\n",
    "You can use the `else` keyword to define a block of code to be executed if no errors were raised:\n",
    "\n",
    "```python\n",
    "try:\n",
    "\tprint(\"Hello\")\n",
    "except:\n",
    "\tprint(\"Something went wrong\")\n",
    "else:\n",
    "\tprint(\"Nothing went wrong\")\n",
    "```"
   ]
  },
  {
   "cell_type": "markdown",
   "metadata": {},
   "source": [
    "### Finally\n",
    "\n",
    "The `finally` block, if specified, will be executed regardless if the try block raises an error or not.\n",
    "\n",
    "```python\n",
    "try:\n",
    "\tprint(x)\n",
    "except:\n",
    "\tprint(\"Something went wrong\")\n",
    "finally:\n",
    "\tprint(\"The 'try except' is finished\")\n",
    "```"
   ]
  },
  {
   "cell_type": "code",
   "execution_count": null,
   "metadata": {},
   "outputs": [],
   "source": [
    "# Example\n",
    "try:\n",
    "\tf = open(\"demofile.txt\")\n",
    "\ttry:\n",
    "\t\tf.write(\"Lorum Ipsum\")\n",
    "\texcept:\n",
    "\t\tprint(\"Something went wrong when writing to the file\")\n",
    "\tfinally:\n",
    "\tf.close()\n",
    "except:\n",
    "\tprint(\"Something went wrong when opening the file\")"
   ]
  },
  {
   "cell_type": "markdown",
   "metadata": {},
   "source": [
    "### Raise an exception\n",
    "\n",
    "As a Python developer you can choose to throw an exception if a condition occurs.\n",
    "\n",
    "To throw (or raise) an exception, use the `raise` keyword.\n",
    "\n",
    "```python\n",
    "x = -1\n",
    "if x < 0:\n",
    "\traise Exception(\"Sorry, no numbers below zero\")\n",
    "```\n",
    "The program stops and the exception is raised."
   ]
  },
  {
   "cell_type": "markdown",
   "metadata": {},
   "source": [
    "## Exercise"
   ]
  },
  {
   "cell_type": "markdown",
   "metadata": {},
   "source": [
    "### 1.\n",
    "\n",
    "**Problem definition:**\n",
    "\n",
    "You are creating a function to divide two numbers and handle potential division by zero errors.\n",
    "\n",
    "**Output Requirement:**\n",
    "\n",
    "- If the division is successful, the function should return the result.\n",
    "- If the divisor is zero, the function should raise a ZeroDivisionError.\n",
    "- If any other error occurs during the division, the function should print an error message and return None.\n",
    "\n",
    "**The question:**\n",
    "\n",
    "Complete the following function definition by filling in the gaps marked by `(number)` with the correct code segment."
   ]
  },
  {
   "cell_type": "code",
   "execution_count": null,
   "metadata": {},
   "outputs": [],
   "source": [
    "def divide_numbers(dividend, divisor):\n",
    "\ttry:\n",
    "\t\tresult = dividend / divisor\n",
    "\texcept ...(1)...:\n",
    "\t\tprint(\"Error: Division by zero.\")\n",
    "\t\t...(2)...\n",
    "\texcept ...(3)...:\n",
    "\t\tprint(\"Error: An unexpected error occurred.\")\n",
    "\t\t...(4)...\n",
    "\telse:\n",
    "\t\treturn result\n",
    "\t...(5)...\n",
    "\t\tprint(\"Division completed.\")\n",
    "\n",
    "# Example usage:\n",
    "print(divide_numbers(10, 2))\n",
    "print(divide_numbers(10, 0))\n",
    "print(divide_numbers(10, 'a'))"
   ]
  },
  {
   "cell_type": "markdown",
   "metadata": {},
   "source": [
    "### 2.\n",
    "\n",
    "**Problem definition:**\n",
    "\n",
    "You are creating a function to read a file and handle potential file not found errors.\n",
    "\n",
    "**Output Requirement:**\n",
    "\n",
    "- If the file is found, the function should print its contents.\n",
    "- If the file is not found, the function should raise a FileNotFoundError and print an error message.\n",
    "- If any other error occurs during file reading, the function should print an error message and return None.\n",
    "\n",
    "**The question:**\n",
    "\n",
    "Complete the following function definition by filling in the gaps marked by `(number)` with the correct code segment."
   ]
  },
  {
   "cell_type": "code",
   "execution_count": null,
   "metadata": {},
   "outputs": [],
   "source": [
    "def read_file(file_path):\n",
    "\ttry:\n",
    "\t\twith open(file_path, 'r') as file:\n",
    "\t\t\tcontent = file.read()\n",
    "\t\t\tprint(\"File contents:\", content)\n",
    "\texcept ...(1)...:\n",
    "\t\tprint(\"Error: File not found.\")\n",
    "\t\t...(2)...\n",
    "\texcept ...(3)...:\n",
    "\t\tprint(\"Error: An unexpected error occurred.\")\n",
    "\t\t...(4)...\n",
    "\n",
    "# Example usage:\n",
    "read_file('example.txt')\n",
    "read_file('nonexistent.txt')"
   ]
  },
  {
   "cell_type": "markdown",
   "metadata": {},
   "source": [
    "### 3.\n",
    "\n",
    "**Problem definition:**\n",
    "\n",
    "You are creating a function to calculate the square root of a number and handle potential ValueError errors.\n",
    "\n",
    "**Output Requirement:**\n",
    "\n",
    "- If the square root calculation is successful, the function should return the result.\n",
    "- If the number is negative, the function should raise a ValueError and print an error message.\n",
    "- If any other error occurs during the square root calculation, the function should print an error message and return None.\n",
    "\n",
    "**The question:**\n",
    "\n",
    "Complete the following function definition by filling in the gaps marked by `(number)` with the correct code segment."
   ]
  },
  {
   "cell_type": "code",
   "execution_count": null,
   "metadata": {},
   "outputs": [],
   "source": [
    "import math\n",
    "\n",
    "def calculate_square_root(number):\n",
    "\ttry:\n",
    "\t\tif number < 0:\n",
    "\t\t\t...(1)...\n",
    "\t\tresult = math.sqrt(number)\n",
    "\texcept ...(2)...:\n",
    "\t\tprint(\"Error: ValueError - Cannot calculate square root of a negative number.\")\n",
    "\t\t...(3)...\n",
    "\texcept ...(4)...:\n",
    "\t\tprint(\"Error: An unexpected error occurred.\")\n",
    "\t\t...(5)...\n",
    "\telse:\n",
    "\t\treturn result\n",
    "\t...(6)...\n",
    "\t\tprint(\"Square root calculation completed.\")\n",
    "\n",
    "# Example usage:\n",
    "print(calculate_square_root(25))\n",
    "print(calculate_square_root(-25))"
   ]
  }
 ],
 "metadata": {
  "language_info": {
   "name": "python"
  }
 },
 "nbformat": 4,
 "nbformat_minor": 2
}
