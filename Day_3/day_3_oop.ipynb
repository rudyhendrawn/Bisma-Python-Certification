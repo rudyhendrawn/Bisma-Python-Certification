{
 "cells": [
  {
   "cell_type": "markdown",
   "metadata": {},
   "source": [
    "## Python Object Oriented"
   ]
  },
  {
   "cell_type": "markdown",
   "metadata": {},
   "source": [
    "### Classes/Object\n",
    "\n",
    "#### Example Classes\n",
    "```python\n",
    "class MyClass:\n",
    "\tx = 5\n",
    "```\n",
    "\n",
    "#### Example Object\n",
    "```python\n",
    "obj = MyClass()\n",
    "print(obj.x)\n",
    "```\n",
    "\n",
    "#### The `__init__()` Function\n",
    "The examples above are classes and objects in their simplest form, and are not really useful in real life applications.\n",
    "\n",
    "To understand the meaning of classes we have to understand the built-in `__init__()` function.\n",
    "\n",
    "All classes have a function called `__init__()`, which is always executed when the class is being initiated.\n",
    "\n",
    "Use the `__init__()` function to assign values to object properties, or other operations that are necessary to do when the object is being created:\n",
    "\n",
    "Source: [w3schools](https://www.w3schools.com/python/python_classes.asp)"
   ]
  },
  {
   "cell_type": "code",
   "execution_count": null,
   "metadata": {},
   "outputs": [],
   "source": [
    "class Person:\t#class is a blueprint for creating objects\n",
    "\tdef __init__(self, name, age): #The __init__() function is called automatically every time the class is being used to create a new object.\n",
    "\t\tself.name = name\n",
    "\t\tself.age = age\n",
    "\n",
    "p1 = Person(\"John\", 36) #When you add the __init__() function, the class will automatically be called when you create a new object.\n",
    "\n",
    "print(p1.name)\n",
    "print(p1.age)"
   ]
  },
  {
   "cell_type": "markdown",
   "metadata": {},
   "source": [
    "### Inheritance\n",
    "\n",
    "Inheritance allows us to define a class that inherits all the methods and properties from another class.\n",
    "\n",
    "**Parent class** is the class being inherited from, also called base class.\n",
    "\n",
    "**Child class** is the class that inherits from another class, also called derived class.\n",
    "\n",
    "Source: [w3schools](https://www.w3schools.com/python/python_inheritance.asp)"
   ]
  },
  {
   "cell_type": "code",
   "execution_count": null,
   "metadata": {},
   "outputs": [],
   "source": [
    "# Example Parent class\n",
    "class Person:\n",
    "\tdef __init__(self, fname, lname):\n",
    "\t\tself.firstname = fname\n",
    "\t\tself.lastname = lname\n",
    "\n",
    "\tdef printname(self):\n",
    "\t\tprint(self.firstname, self.lastname)\n",
    "\n",
    "# Use the Person class to create an object, and then execute the printname method:\n",
    "x = Person(\"John\", \"Doe\")\n",
    "x.printname()"
   ]
  },
  {
   "cell_type": "code",
   "execution_count": null,
   "metadata": {},
   "outputs": [],
   "source": [
    "# Example Child class\n",
    "class Student(Person):\n",
    "\tpass\n",
    "\n",
    "# Use the Student class to create an object, and then execute the printname method:\n",
    "x = Student(\"Mike\", \"Olsen\")\n",
    "x.printname()"
   ]
  },
  {
   "cell_type": "markdown",
   "metadata": {},
   "source": [
    "#### Add the `__init__()` Function\n",
    "So far we have created a child class that inherits the properties and methods from its parent.\n",
    "\n",
    "We want to add the `__init__()` function to the child class (instead of the pass keyword).\n",
    "\n",
    "> Note: The `__init__()` function is called automatically every time the class is being used to create a new object.\n",
    "\n",
    "```python\n",
    "class Student(Person):\n",
    "\tdef __init__(self, fname, lname, year):\n",
    "\t\t# Add properties etc.\n",
    "```\n",
    "\n",
    "When you add the `__init__()` function, the child class will no longer inherit the parent's `__init__()` function.\n",
    "\n",
    "> Note: The child's `__init__()` function overrides the inheritance of the parent's `__init__()` function.\n",
    "\n",
    "To keep the inheritance of the parent's `__init__()` function, add a call to the parent's `__init__()` function:\n",
    "\n",
    "Source: [w3schools](https://www.w3schools.com/python/python_inheritance.asp)"
   ]
  },
  {
   "cell_type": "code",
   "execution_count": null,
   "metadata": {},
   "outputs": [],
   "source": [
    "class Student(Person):\n",
    "\tdef __init__(self, fname, lname):\n",
    "\t\tPerson.__init__(self, fname, lname)\n",
    "# Now we have successfully added the __init__() function, and kept the inheritance of the parent class, and we are ready to add functionality in the __init__() function."
   ]
  },
  {
   "cell_type": "markdown",
   "metadata": {},
   "source": [
    "### Use the super() Function\n",
    "\n",
    "Python also has a super() function that will make the child class inherit all the methods and properties from its parent:\n",
    "\n",
    "```python\n",
    "class Student(Person):\n",
    "\tdef __init__(self, fname, lname, year):\n",
    "\t\tsuper().__init__(fname, lname)\n",
    "```\n",
    "By using the super() function, you do not have to use the name of the parent element, it will automatically inherit the methods and properties from its parent.\n",
    "\n",
    "Source: [w3schools](https://www.w3schools.com/python/python_inheritance.asp)"
   ]
  },
  {
   "cell_type": "markdown",
   "metadata": {},
   "source": [
    "### Add Properties\n",
    "\n",
    "Add a property called graduationyear to the Student class:\n",
    "\n",
    "```python\n",
    "class Student(Person):\n",
    "\tdef __init__(self, fname, lname):\n",
    "\t\tsuper().__init__(fname, lname)\n",
    "\t\tself.graduationyear = 2019\n",
    "```"
   ]
  },
  {
   "cell_type": "code",
   "execution_count": null,
   "metadata": {},
   "outputs": [],
   "source": [
    "# Example\n",
    "class Student(Person):\n",
    "\tdef __init__(self, fname, lname, year):\n",
    "\t\tsuper().__init__(fname, lname)\n",
    "\t\tself.graduationyear = year\n",
    "\n",
    "x = Student(\"Mike\", \"Olsen\", 2019)"
   ]
  },
  {
   "cell_type": "markdown",
   "metadata": {},
   "source": [
    "### Add Methods\n",
    "\n",
    "Add a method called welcome to the Student class:\n",
    "\n",
    "```python\n",
    "class Student(Person):\n",
    "\tdef __init__(self, fname, lname, year):\n",
    "\t\tsuper().__init__(fname, lname)\n",
    "\t\tself.graduationyear = year\n",
    "\n",
    "\tdef welcome(self):\n",
    "\t\tprint(\"Welcome\", self.firstname, self.lastname, \"to the class of\", self.graduationyear)\n",
    "```"
   ]
  },
  {
   "cell_type": "code",
   "execution_count": null,
   "metadata": {},
   "outputs": [],
   "source": [
    "# Example\n",
    "class Student(Person):\n",
    "\tdef __init__(self, fname, lname, year):\n",
    "\t\tsuper().__init__(fname, lname)\n",
    "\t\tself.graduationyear = year\n",
    "\n",
    "\tdef welcome(self):\n",
    "\t\tprint(\"Welcome\", self.firstname, self.lastname, \"to the class of\", self.graduationyear)\n",
    "\n",
    "x = Student(\"Mike\", \"Olsen\", 2019)\n",
    "x.welcome()"
   ]
  },
  {
   "cell_type": "markdown",
   "metadata": {},
   "source": [
    "## Exercise"
   ]
  },
  {
   "cell_type": "markdown",
   "metadata": {},
   "source": [
    "### 1.\n",
    "**Problem definition:**\n",
    "\n",
    "You are tasked with creating a Python class to represent a bank account with the following functionalities:\n",
    "\n",
    "**Output Requirement:**\n",
    "\n",
    "- The class should have instance variables for the account holder's name, account number, and balance.\n",
    "- It should have methods to deposit money into the account, withdraw money from the account, and check the current balance.\n",
    "- Withdrawals should not be allowed if the withdrawal amount exceeds the current balance.\n",
    "\n",
    "**The question:**\n",
    "\n",
    "Complete the following class definition by filling in the gaps marked by `(number)` with the correct code segment. Please fill in the gaps marked by (number) with the correct code segment to implement the BankAccount class based on the given requirements."
   ]
  },
  {
   "cell_type": "code",
   "execution_count": null,
   "metadata": {},
   "outputs": [],
   "source": [
    "class BankAccount:\n",
    "\tdef __init__(self, account_holder, account_number, initial_balance):\n",
    "\t\tself.account_holder = ...(1)...\n",
    "\t\tself.account_number = ...(2)...\n",
    "\t\tself.balance = ...(3)...\n",
    "\n",
    "\tdef deposit(self, amount):\n",
    "\t\t...(4)...\n",
    "\t\t\tself.balance += amount\n",
    "\t\t\tprint(f\"Deposited ${amount}. New balance: ${self.balance}\")\n",
    "\t\t...(5)...\n",
    "\t\t\tprint(\"Deposit amount must be positive.\")\n",
    "\n",
    "\tdef withdraw(self, amount):\n",
    "\t\t...(6)...\n",
    "\t\t\tif amount <= self.balance:\n",
    "\t\t\t\tself.balance -= amount\n",
    "\t\t\t\tprint(f\"Withdrew ${amount}. New balance: ${self.balance}\")\n",
    "\t\t\telse:\n",
    "\t\t\t\tprint(\"Insufficient funds.\")\n",
    "\n",
    "\tdef check_balance(self):\n",
    "        print(f\"Current balance: ${self.balance}\")\n",
    "\n",
    "# Example usage:\n",
    "account = BankAccount(\"Alice\", \"123456789\", 1000)\n",
    "account.deposit(500)\n",
    "account.withdraw(200)\n",
    "account.check_balance()"
   ]
  },
  {
   "cell_type": "markdown",
   "metadata": {},
   "source": [
    "### 2.\n",
    "\n",
    "**Problem definition:**\n",
    "\n",
    "You are tasked with creating a Python class to represent a geometric shape with the following functionalities:\n",
    "\n",
    "**Output Requirement:**\n",
    "\n",
    "The class should have a method to calculate the area of the shape.\n",
    "It should have subclasses for different types of shapes such as rectangle and circle, each implementing the area calculation method.\n",
    "\n",
    "**The question:**\n",
    "\n",
    "Complete the following class definitions by filling in the gaps marked by (number) with the correct code segment. Please fill in the gaps marked by `(number)` with the correct code segment to implement the Shape, Rectangle, and Circle classes based on the given requirements."
   ]
  },
  {
   "cell_type": "code",
   "execution_count": null,
   "metadata": {},
   "outputs": [],
   "source": [
    "class Shape:\n",
    "\tdef area(self):\n",
    "\t\tpass\n",
    "\n",
    "class Rectangle(Shape):\n",
    "\tdef __init__(self, length, width):\n",
    "\t\tself.length = ...(1)...\n",
    "\t\tself.width = ...(2)...\n",
    "\n",
    "\tdef area(self):\n",
    "\t\treturn self.length * self.width\n",
    "\n",
    "class Circle(Shape):\n",
    "\tdef __init__(self, radius):\n",
    "\t\tself.radius = ...(3)...\n",
    "\n",
    "\tdef area(self):\n",
    "\t\treturn 3.14 * self.radius ** 2\n",
    "\n",
    "# Example usage:\n",
    "rectangle = Rectangle(5, 4)\n",
    "print(\"Rectangle area:\", rectangle.area())\n",
    "\n",
    "circle = Circle(3)\n",
    "print(\"Circle area:\", circle.area())"
   ]
  },
  {
   "cell_type": "markdown",
   "metadata": {},
   "source": [
    "### 3.\n",
    "\n",
    "**Problem definition:**\n",
    "\n",
    "You are tasked with creating a Python class to represent a book with the following functionalities:\n",
    "\n",
    "**Output Requirement:**\n",
    "\n",
    "The class should have instance variables for the title, author, and publication year of the book.\n",
    "It should have methods to get and set the title, author, and publication year.\n",
    "The publication year should be validated to ensure it is not in the future.\n",
    "\n",
    "**The question:**\n",
    "\n",
    "Complete the following class definition by filling in the gaps marked by `(number)` with the correct code segment. Please fill in the gaps marked by `(number)` with the correct code segment to implement the Book class based on the given requirements."
   ]
  },
  {
   "cell_type": "code",
   "execution_count": null,
   "metadata": {},
   "outputs": [],
   "source": [
    "class Book:\n",
    "\tdef __init__(self, title, author, publication_year):\n",
    "\t\tself.title = ...(1)...\n",
    "\t\tself.author = ...(2)...\n",
    "\t\tself.publication_year = ...(3)...\n",
    "\n",
    "\tdef get_title(self):\n",
    "\t\treturn ...(4)...\n",
    "\n",
    "\tdef set_title(self, title):\n",
    "\t\t...(5)...\n",
    "\t\t\tself.title = title\n",
    "\t\t...(6)...\n",
    "\t\t\tprint(\"Title must be a non-empty string.\")\n",
    "\n",
    "\tdef get_author(self):\n",
    "\t\treturn ...(7)...\n",
    "\n",
    "\tdef set_author(self, author):\n",
    "\t\t...(8)...\n",
    "\t\t\tself.author = author\n",
    "\t\t...(9)...\n",
    "\t\t\tprint(\"Author must be a non-empty string.\")\n",
    "\n",
    "\tdef get_publication_year(self):\n",
    "\t\treturn ...(10)...\n",
    "\n",
    "\tdef set_publication_year(self, publication_year):\n",
    "\t\t...(11)...\n",
    "\t\t\tself.publication_year = publication_year\n",
    "\t\t...(12)...\n",
    "\t\t\tprint(\"Publication year must not be in the future.\")\n",
    "\n",
    "# Example usage:\n",
    "book = Book(\"Python Programming\", \"John Smith\", 2022)\n",
    "print(\"Title:\", book.get_title())\n",
    "book.set_title(\"New Title\")\n",
    "print(\"Updated title:\", book.get_title())"
   ]
  }
 ],
 "metadata": {
  "language_info": {
   "name": "python"
  }
 },
 "nbformat": 4,
 "nbformat_minor": 2
}
