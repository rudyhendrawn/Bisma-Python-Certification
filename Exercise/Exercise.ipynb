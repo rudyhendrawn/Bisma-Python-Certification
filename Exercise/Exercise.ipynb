{
 "cells": [
  {
   "cell_type": "markdown",
   "metadata": {},
   "source": [
    "## 1."
   ]
  },
  {
   "cell_type": "markdown",
   "metadata": {},
   "source": [
    "You are creating an eCommerce script that accepts input from the user and outputs the data in a comma-delimited format. You write the following code to accept input:\n",
    "\n",
    "```python\n",
    "item = input(\"Enter the item name: \")\n",
    "sales = int(input(\"Enter the quantity\"))\n",
    "```\n",
    "\n",
    "The output must meet the following requirements:\n",
    "- Enclose strings in double quotes.\n",
    "- Do not enclose numbers in quotes or other characters.\n",
    "- Seperate items by commas\n",
    "\n",
    "You need to complete the code to meet the requirements.\n",
    "\n",
    "Which two code segments could you use?\n",
    "\n",
    "A. `print('\"' + item + '\",' , sales)`\n",
    "\n",
    "B. `print(item + ',' + sales)`\n",
    "\n",
    "C. `print('\"{0}\", {1}'.format(item, sales))`\n",
    "\n",
    "D. `print(\"{0},{1}\".format(item, sales))`"
   ]
  },
  {
   "cell_type": "markdown",
   "metadata": {},
   "source": [
    "## 2."
   ]
  },
  {
   "cell_type": "markdown",
   "metadata": {},
   "source": [
    "You are writing code to meet the following requirements:\n",
    "- Allow users to repeatedly enter words.\n",
    "- Output the number of characters in each word.\n",
    "\n",
    "Complete the following code (in the (number)) to complete the requirements.\n",
    "\n",
    "```python\n",
    "x = \"Hello\"\n",
    "..(1).. x != \"QUIT\":\n",
    "\tnum = 0\n",
    "\t..(2).. char ..(3).. x:\n",
    "\t\t..(4)..\n",
    "\tprint(num)\n",
    "\tx = input(\"Enter a new word or QUIT ot exit: \")\n",
    "```"
   ]
  },
  {
   "cell_type": "markdown",
   "metadata": {},
   "source": [
    "## 3\n",
    "\n",
    "Review the following code:\n",
    "\n",
    "```python\n",
    "x = \"oranges\"\n",
    "y = \"apples\"\n",
    "z = \"bananas\"\n",
    "data = \"{1} and {0} and {2}\"\n",
    "print(data.format(z, y, x))\n",
    "```\n",
    "\n",
    "What is the output of the print statement?"
   ]
  },
  {
   "cell_type": "markdown",
   "metadata": {},
   "source": [
    "## 4.\n",
    "\n",
    "You are creating a function to calculate admission fees (`admission_fee`) based on the following rules:\n",
    "- Anyone under 5 = free admission\n",
    "- Anyone age 5 or older who is in school = $10\n",
    "- Anyone age 5 to 17 who is not in school = $20\n",
    "- Anyone older than age 17 who is not in school = $50\n",
    "\n",
    "`rate` represents the price in dollars.\n",
    "\n",
    "Complete the following code by replacing the (number) to the correct code segment.\n",
    "\n",
    "```python\n",
    "def admission_fee(age, school):\n",
    "\trate = 0\n",
    "\t..(1)..\n",
    "\t\trate = 10\n",
    "\t..(2)..\n",
    "\t\t..(3)..\n",
    "\t\t\t..(4)..\n",
    "\t\telse:\n",
    "\t\t\trate = 50\n",
    "\treturn rate\n",
    "```"
   ]
  },
  {
   "cell_type": "markdown",
   "metadata": {},
   "source": [
    "## 5\n",
    "\n",
    "You are writing a function that increments the player score in a game.\n",
    "\n",
    "The function has the following requirements:\n",
    "- If no value is specified for `points`, the `points` start at one.\n",
    "- If bonus is `True`, the `points` mus be doubled.\n",
    "\n",
    "You write the following code."
   ]
  },
  {
   "cell_type": "code",
   "execution_count": null,
   "metadata": {},
   "outputs": [],
   "source": [
    "def increment_score(score, bonus, points):\n",
    "\tif bonus == True:\n",
    "\t\tpoints = points * 2\n",
    "\tscore = score + points\n",
    "\treturn score\n",
    "points = 5\n",
    "score = 10\n",
    "new_score = increment_score(score, True, points)"
   ]
  },
  {
   "cell_type": "markdown",
   "metadata": {},
   "source": [
    "For each statement, choose `True` or `False`.\n",
    "\n",
    "1. To meet the requirements, you must change line 1 to:\n",
    "\t```python\n",
    "\tdef increment_score(score, bonus, points=1):\n",
    "\t```\n",
    "2. If you do not change line 1 and the function is called with only two parameters, the value of the third parameter will be `None`.\n",
    "3. Line 3 will also modify the value of the variable `points` declared at line 6."
   ]
  },
  {
   "cell_type": "markdown",
   "metadata": {},
   "source": [
    "## 6\n",
    "\n",
    "You are creating a function to calculate the total cost of purchasing items from a grocery store based on the following rules:\n",
    "\n",
    "- Each item has a base price.\n",
    "- If the quantity of an item is less than or equal to 5, there is no discount applied.\n",
    "- If the quantity of an item is between 6 and 10 (inclusive), apply a 10% discount.\n",
    "- If the quantity of an item is greater than 10, apply a 20% discount.\n",
    "- The total cost is the sum of the individual costs of each item after applying any applicable discounts.\n",
    "\n",
    "Complete the following code by replacing the (number) with the correct code segment.\n",
    "\n",
    "```python\n",
    "def calculate_total_cost(item_prices, item_quantities):\n",
    "    total_cost = 0\n",
    "    for i in range(len(item_prices)):\n",
    "        item_cost = ...(1)...\n",
    "        if ...(2)...:\n",
    "            total_cost += item_cost\n",
    "        elif ...(3)...:\n",
    "            ...(4)...\n",
    "        else:\n",
    "            ...(5)...\n",
    "    return total_cost\n",
    "```"
   ]
  },
  {
   "cell_type": "markdown",
   "metadata": {},
   "source": [
    "## 7\n",
    "\n",
    "You are tasked with creating a function to process a list of numbers and perform specific operations based on the following rules:\n",
    "\n",
    "- For each number in the list:\n",
    "\t- If the number is even, add it to the running total.\n",
    "\t- If the number is odd, multiply it by 2 and add it to the running total.\n",
    "Complete the following code by replacing the (number) with the correct code segment.\n",
    "\n",
    "```python\n",
    "def process_numbers(numbers):\n",
    "    total = 0\n",
    "    for num in numbers:\n",
    "        if ...(1)...:\n",
    "            total += num\n",
    "        else:\n",
    "            total += num * 2\n",
    "    return total\n",
    "```"
   ]
  },
  {
   "cell_type": "markdown",
   "metadata": {},
   "source": [
    "## 8\n",
    "\n",
    "You are creating a function to extract unique elements from a list of numbers while preserving the original order.\n",
    "\n",
    "- The output list should contain only unique elements from the input list.\n",
    "- The order of elements in the output list should be the same as the order of their first occurrence in the input list.\n",
    "\n",
    "Complete the following code by replacing the (number) with the correct code segment.\n",
    "\n",
    "```python\n",
    "def extract_unique(numbers):\n",
    "    unique_list = []\n",
    "    for num in numbers:\n",
    "        if ...(1)...:\n",
    "            ...(2)...\n",
    "    return unique_list\n",
    "```"
   ]
  },
  {
   "cell_type": "markdown",
   "metadata": {},
   "source": [
    "## 9\n",
    "\n",
    "You are tasked with creating a function to find the maximum and minimum elements in a list of numbers.\n",
    "\n",
    "- The function should return a list containing the maximum and minimum elements in the list.\n",
    "\n",
    "Complete the following code by replacing the (number) with the correct code segment.\n",
    "\n",
    "```python\n",
    "def find_max_min(numbers):\n",
    "    max_num = ...(1)...\n",
    "    min_num = ...(2)...\n",
    "    for num in numbers:\n",
    "        if ...(4)... > ...(5)...:\n",
    "            max_num = num\n",
    "        if ...(6)... < ...(7)...:\n",
    "            ...(8)... = ...(9)...\n",
    "    return [max_num, min_num]\n",
    "```"
   ]
  }
 ],
 "metadata": {
  "kernelspec": {
   "display_name": "bisma-python-certification",
   "language": "python",
   "name": "python3"
  },
  "language_info": {
   "name": "python",
   "version": "3.10.13"
  }
 },
 "nbformat": 4,
 "nbformat_minor": 2
}
