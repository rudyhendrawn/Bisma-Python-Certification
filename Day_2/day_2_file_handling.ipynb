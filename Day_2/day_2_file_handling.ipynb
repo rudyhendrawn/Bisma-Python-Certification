{
 "cells": [
  {
   "cell_type": "markdown",
   "metadata": {},
   "source": [
    "## File Handling and OS Module\n",
    "\n",
    "Python provides robust capabilities for file handling and interacting with the operating system through built-in modules such as `os` and file handling mechanisms. These features enable Python scripts to perform file operations like reading and writing files, as well as interacting with the operating system to handle directories, file paths, and more."
   ]
  },
  {
   "cell_type": "markdown",
   "metadata": {},
   "source": [
    "### File Handling in Python\n",
    "File handling in Python is a way of reading from and writing to files. It's done through the built-in `open()` function, which returns a file object. This object can then be used to read from or write to a file.\n",
    "\n",
    "### Basic Operations:\n",
    "\n",
    "- **Opening a File**: Use the `open()` function, specifying the file path and the mode (`r` for reading, `w` for writing, `a` for appending, `r+` for both reading and writing, etc.).\n",
    "- **Reading from a File**: Methods like `.read()`, `.readline()`, and `.readlines()` can be used to read file contents.\n",
    "- **Writing to a File**: Methods like `.write()` and `.writelines()` can be used to write to a file.\n",
    "- **Closing a File**: It's crucial to close a file after operations are completed using the `.close()` method or by utilizing a with statement for automatic closure."
   ]
  },
  {
   "cell_type": "code",
   "execution_count": null,
   "metadata": {},
   "outputs": [],
   "source": [
    "# Writing to a file\n",
    "with open('example.txt', 'w') as file:\n",
    "\tfile.write('Hello, Python!')\n",
    "file.close()\n",
    "\n",
    "# Reading from a file\n",
    "with open('example.txt', 'r') as file:\n",
    "\tcontent = file.read()\n",
    "\tprint(content)\n",
    "file.close()"
   ]
  },
  {
   "cell_type": "markdown",
   "metadata": {},
   "source": [
    "### The os Module\n",
    "The `os` module in Python provides a way of using operating system-dependent functionality like navigating the file system, making directory changes, fetching file information, and more."
   ]
  },
  {
   "cell_type": "code",
   "execution_count": null,
   "metadata": {},
   "outputs": [],
   "source": [
    "import os\n",
    "\n",
    "# Get current working directory\n",
    "current_directory = os.getcwd()\n",
    "print('Current Directory:', current_directory)\n",
    "\n",
    "# List all files and directories in the current directory\n",
    "for item in os.listdir('.'):\n",
    "\tprint(item)\n",
    "\n",
    "# Make a new directory\n",
    "os.mkdir('new_directory')\n",
    "\n",
    "# Change working directory\n",
    "os.chdir('new_directory')\n",
    "print('Changed to new directory:', os.getcwd())\n",
    "\n",
    "# Remove the directory (change back to the parent directory first)\n",
    "os.chdir('..')\n",
    "os.rmdir('new_directory')"
   ]
  },
  {
   "cell_type": "markdown",
   "metadata": {},
   "source": [
    "### Combining File Handling and os Module"
   ]
  },
  {
   "cell_type": "code",
   "execution_count": null,
   "metadata": {},
   "outputs": [],
   "source": [
    "# Creating a File in a New Directory:\n",
    "import os\n",
    "\n",
    "# Create a new directory\n",
    "dir_name = 'example_dir'\n",
    "if not os.path.exists(dir_name):\n",
    "\tos.makedirs(dir_name)\n",
    "\n",
    "# Create a file in the new directory\n",
    "file_path = os.path.join(dir_name, 'example_file.txt')\n",
    "with open(file_path, 'w') as file:\n",
    "\tfile.write('File in a new directory!')\n",
    "\n",
    "# Read from the created file\n",
    "with open(file_path, 'r') as file:\n",
    "\tcontent = file.read()\n",
    "\tprint(content)"
   ]
  },
  {
   "cell_type": "markdown",
   "metadata": {},
   "source": [
    "## Exercise"
   ]
  },
  {
   "cell_type": "markdown",
   "metadata": {},
   "source": [
    "1. Create a new text file named `hello.txt` and write \"Hello, world!\" into it."
   ]
  },
  {
   "cell_type": "code",
   "execution_count": null,
   "metadata": {},
   "outputs": [],
   "source": [
    "with open('hello.txt', 'w') as file:\n",
    "\tfile.write(\"Hello, world!\")\n",
    "file.close()"
   ]
  },
  {
   "cell_type": "markdown",
   "metadata": {},
   "source": [
    "2. Read the contents of the file `hello.txt` created in Exercise 1 and print them."
   ]
  },
  {
   "cell_type": "code",
   "execution_count": null,
   "metadata": {},
   "outputs": [],
   "source": [
    "with open('hello.txt', 'r') as file:\n",
    "\tcontent = file.read()\n",
    "\tprint(content)\n",
    "file.close()"
   ]
  },
  {
   "cell_type": "markdown",
   "metadata": {},
   "source": [
    "3. Append the text \"Python is fun!\" to the existing `hello.txt` file."
   ]
  },
  {
   "cell_type": "code",
   "execution_count": null,
   "metadata": {},
   "outputs": [],
   "source": [
    "with open('hello.txt', 'a') as file:\n",
    "\tfile.write(\"\\nPython is fun!\")\n",
    "file.close()"
   ]
  },
  {
   "cell_type": "markdown",
   "metadata": {},
   "source": [
    "4. Read from `hello.txt` and print each line separately."
   ]
  },
  {
   "cell_type": "code",
   "execution_count": null,
   "metadata": {},
   "outputs": [],
   "source": [
    "with open('hello.txt', 'r') as file:\n",
    "\tfor line in file:\n",
    "\t\tprint(line.strip())\n",
    "file.close()"
   ]
  },
  {
   "cell_type": "markdown",
   "metadata": {},
   "source": [
    "5. Write multiple lines to a new file `notes.txt`. Each line should contain a different note."
   ]
  },
  {
   "cell_type": "code",
   "execution_count": null,
   "metadata": {},
   "outputs": [],
   "source": [
    "notes = [\"Note 1: Python is powerful.\", \"Note 2: Practice makes perfect.\", \"Note 3: Keep learning.\"]\n",
    "with open('notes.txt', 'w') as file:\n",
    "\tfor note in notes:\n",
    "\t\tfile.write(note + \"\\n\")\n",
    "file.close()"
   ]
  },
  {
   "cell_type": "markdown",
   "metadata": {},
   "source": [
    "6. Create a directory named data, then create a file `info.txt` inside it and write \"Data Information\" into the file."
   ]
  },
  {
   "cell_type": "code",
   "execution_count": null,
   "metadata": {},
   "outputs": [],
   "source": [
    "import os\n",
    "\n",
    "os.makedirs('data', exist_ok=True)\n",
    "with open(os.path.join('data', 'info.txt'), 'w') as file:\n",
    "\tfile.write(\"Data Information\")\n",
    "file.close()"
   ]
  },
  {
   "cell_type": "markdown",
   "metadata": {},
   "source": [
    "7. List all files in the data directory created in Exercise 6."
   ]
  },
  {
   "cell_type": "code",
   "execution_count": null,
   "metadata": {},
   "outputs": [],
   "source": [
    "for file in os.listdir('data'):\n",
    "\tprint(file)"
   ]
  },
  {
   "cell_type": "markdown",
   "metadata": {},
   "source": [
    "8. Rename the `info.txt` file in the data directory to `details.txt`."
   ]
  },
  {
   "cell_type": "code",
   "execution_count": null,
   "metadata": {},
   "outputs": [],
   "source": [
    "os.rename('data/info.txt', 'data/details.txt')"
   ]
  },
  {
   "cell_type": "markdown",
   "metadata": {},
   "source": [
    "9. Remove the `details.txt` file and then the `data` directory."
   ]
  },
  {
   "cell_type": "code",
   "execution_count": null,
   "metadata": {},
   "outputs": [],
   "source": [
    "os.remove('data/details.txt')\n",
    "os.rmdir('data')  # Make sure the directory is empty"
   ]
  },
  {
   "cell_type": "markdown",
   "metadata": {},
   "source": [
    "10. Create a directory backup, and copy the `hello.txt` file into it as `hello_backup.txt`."
   ]
  },
  {
   "cell_type": "code",
   "execution_count": null,
   "metadata": {},
   "outputs": [],
   "source": [
    "import shutil\n",
    "\n",
    "os.makedirs('backup', exist_ok=True)\n",
    "shutil.copyfile('hello.txt', 'backup/hello_backup.txt')"
   ]
  }
 ],
 "metadata": {
  "language_info": {
   "name": "python"
  }
 },
 "nbformat": 4,
 "nbformat_minor": 2
}
