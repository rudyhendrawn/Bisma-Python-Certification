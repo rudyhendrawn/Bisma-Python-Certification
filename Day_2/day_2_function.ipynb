{
 "cells": [
  {
   "cell_type": "markdown",
   "metadata": {},
   "source": [
    "## Functions\n",
    "\n",
    "A function is a block of code which only runs when it is called. You can pass data, known as parameters, into a function. A function can return data as a result."
   ]
  },
  {
   "cell_type": "markdown",
   "metadata": {},
   "source": [
    "### Creating a Function"
   ]
  },
  {
   "cell_type": "code",
   "execution_count": null,
   "metadata": {},
   "outputs": [],
   "source": [
    "def my_function():\n",
    "\tprint(\"Hello from a function\")\n",
    "\n",
    "my_function()"
   ]
  },
  {
   "cell_type": "markdown",
   "metadata": {},
   "source": [
    "### Parameters or Arguments?\n",
    "\n",
    "The terms parameter and argument can be used for the same thing: information that are passed into a function.\n",
    "\n",
    "> From a function's perspective:\n",
    "> - A parameter is the variable listed inside the parentheses in the function definition.\n",
    "> - An argument is the value that is sent to the function when it is called.\n",
    "\n",
    "Source: [W3Schools](https://www.w3schools.com/python/python_functions.asp)"
   ]
  },
  {
   "cell_type": "markdown",
   "metadata": {},
   "source": [
    "### Number of Arguments\n",
    "\n",
    "By default, a function must be called with the correct number of arguments. Meaning that if your function expects 2 arguments, you have to call the function with 2 arguments, not more, and not less."
   ]
  },
  {
   "cell_type": "code",
   "execution_count": null,
   "metadata": {},
   "outputs": [],
   "source": [
    "def my_function(fname, lname):\n",
    "\tprint(fname + \" \" + lname)\n",
    "\n",
    "my_function(\"Emil\", \"Refsnes\")"
   ]
  },
  {
   "cell_type": "markdown",
   "metadata": {},
   "source": [
    "### Arbitrary Arguments, *args\n",
    "\n",
    "If you do not know how many arguments that will be passed into your function, add a `*` before the parameter name in the function definition.\n",
    "\n",
    "This way the function will receive a tuple of arguments, and can access the items accordingly:"
   ]
  },
  {
   "cell_type": "code",
   "execution_count": null,
   "metadata": {},
   "outputs": [],
   "source": [
    "def my_function(*kids):\n",
    "\tprint(\"The youngest child is \" + kids[2])\n",
    "\n",
    "my_function(\"Emil\", \"Tobias\", \"Linus\")"
   ]
  },
  {
   "cell_type": "markdown",
   "metadata": {},
   "source": [
    "### Keyword Arguments\n",
    "\n",
    "You can also send arguments with the key = value syntax.\n",
    "\n",
    "This way the order of the arguments does not matter."
   ]
  },
  {
   "cell_type": "code",
   "execution_count": null,
   "metadata": {},
   "outputs": [],
   "source": [
    "def my_function(child3, child2, child1):\n",
    "\tprint(\"The youngest child is \" + child3)\n",
    "\n",
    "my_function(child1 = \"Emil\", child2 = \"Tobias\", child3 = \"Linus\")"
   ]
  },
  {
   "cell_type": "markdown",
   "metadata": {},
   "source": [
    "### Arbitrary Keyword Arguments, **kwargs\n",
    "\n",
    "If you do not know how many keyword arguments that will be passed into your function, add two asterisk: `**` before the parameter name in the function definition.\n",
    "\n",
    "This way the function will receive a dictionary of arguments, and can access the items accordingly:"
   ]
  },
  {
   "cell_type": "code",
   "execution_count": null,
   "metadata": {},
   "outputs": [],
   "source": [
    "def my_function(**kid):\n",
    "\tprint(\"His last name is \" + kid[\"lname\"])\n",
    "\n",
    "my_function(fname = \"Tobias\", lname = \"Refsnes\")"
   ]
  },
  {
   "cell_type": "markdown",
   "metadata": {},
   "source": [
    "### Default Parameter Value\n",
    "The following example shows how to use a default parameter value.\n",
    "\n",
    "If we call the function without argument, it uses the default value:"
   ]
  },
  {
   "cell_type": "code",
   "execution_count": null,
   "metadata": {},
   "outputs": [],
   "source": [
    "def my_function(country = \"Norway\"):\n",
    "\tprint(\"I am from \" + country)\n",
    "\n",
    "my_function(\"Sweden\")\n",
    "my_function(\"India\")\n",
    "my_function(\"Brazil\")\n",
    "my_function()"
   ]
  },
  {
   "cell_type": "markdown",
   "metadata": {},
   "source": [
    "### Passing a List as an Argument"
   ]
  },
  {
   "cell_type": "code",
   "execution_count": null,
   "metadata": {},
   "outputs": [],
   "source": [
    "def my_function(food):\n",
    "\tfor x in food:\n",
    "\t\tprint(x)\n",
    "\n",
    "fruits = [\"apple\", \"banana\", \"cherry\"]\n",
    "my_function(fruits)"
   ]
  },
  {
   "cell_type": "markdown",
   "metadata": {},
   "source": [
    "### Return Values and Argument Documentation"
   ]
  },
  {
   "cell_type": "code",
   "execution_count": null,
   "metadata": {},
   "outputs": [],
   "source": [
    "# Simple Return Values\n",
    "def my_function(x):\n",
    "\treturn 5 * x\n",
    "\n",
    "print(my_function(3))\n",
    "print(my_function(5))\n",
    "print(my_function(9))"
   ]
  },
  {
   "cell_type": "code",
   "execution_count": null,
   "metadata": {},
   "outputs": [],
   "source": [
    "def arithmetic_operations(a, b):\n",
    "\t\"\"\"\n",
    "\tPerforms basic arithmetic operations on two numbers.\n",
    "\n",
    "\tArgs:\n",
    "\t\ta (int/float): First number.\n",
    "\t\tb (int/float): Second number.\n",
    "\n",
    "\tReturns:\n",
    "\t\ttuple: Contains the results of addition, subtraction, multiplication, and division.\n",
    "\t\"\"\"\n",
    "\taddition = a + b\n",
    "\tsubtraction = a - b\n",
    "\tmultiplication = a * b\n",
    "\tdivision = a / b if b != 0 else 'Infinity'\n",
    "\t\n",
    "\treturn addition, subtraction, multiplication, division"
   ]
  },
  {
   "cell_type": "code",
   "execution_count": null,
   "metadata": {},
   "outputs": [],
   "source": [
    "def analyze_text(text):\n",
    "\t\"\"\"\n",
    "\tAnalyzes a given text to count the number of words and the average word length.\n",
    "\n",
    "\tArgs:\n",
    "\t\ttext (str): The text to be analyzed.\n",
    "\n",
    "\tReturns:\n",
    "\t\tint: Number of words in the text.\n",
    "\t\tfloat: Average length of the words.\n",
    "\t\"\"\"\n",
    "\twords = text.split()\n",
    "\tnum_words = len(words)\n",
    "\tavg_length = sum(len(word) for word in words) / num_words if num_words > 0 else 0\n",
    "\t\n",
    "\treturn num_words, avg_length"
   ]
  },
  {
   "cell_type": "markdown",
   "metadata": {},
   "source": [
    "### Recursive Function"
   ]
  },
  {
   "cell_type": "code",
   "execution_count": null,
   "metadata": {},
   "outputs": [],
   "source": [
    "def factorial(n):\n",
    "    if n == 0:\n",
    "        return 1\n",
    "    else:\n",
    "        return n * factorial(n-1)\n",
    "\n",
    "print(factorial(5))  # Expected output: 120"
   ]
  },
  {
   "cell_type": "markdown",
   "metadata": {},
   "source": [
    "## Exercise\n",
    "\n",
    "Refine the function by doing some troubleshooting and debugging."
   ]
  },
  {
   "cell_type": "code",
   "execution_count": null,
   "metadata": {},
   "outputs": [],
   "source": [
    "# Problem Code 1\n",
    "def greet(name):\n",
    "\treturn f\"Hello, {name}!\"\n",
    "\n",
    "print(greet())"
   ]
  },
  {
   "cell_type": "code",
   "execution_count": null,
   "metadata": {},
   "outputs": [],
   "source": [
    "# Problem Code 2\n",
    "def calculate_sum():\n",
    "\ttotal = a + b\n",
    "\n",
    "a = 5\n",
    "b = 10\n",
    "calculate_sum()\n",
    "print(total)"
   ]
  },
  {
   "cell_type": "code",
   "execution_count": null,
   "metadata": {},
   "outputs": [],
   "source": [
    "# Problem Code 3\n",
    "def get_dimensions():\n",
    "\twidth = 5\n",
    "\theight = 10\n",
    "\treturn width, height\n",
    "\n",
    "dimensions = get_dimensions\n",
    "print(f\"Width: {dimensions[0]}, Height: {dimensions[1]}\")\n"
   ]
  },
  {
   "cell_type": "code",
   "execution_count": null,
   "metadata": {},
   "outputs": [],
   "source": [
    "# Problem Code 4\n",
    "def append_to_list(value, lst=[]):\n",
    "\tlst.append(value)\n",
    "\treturn lst\n",
    "\n",
    "print(append_to_list(1))\n",
    "print(append_to_list(2))"
   ]
  },
  {
   "cell_type": "code",
   "execution_count": null,
   "metadata": {},
   "outputs": [],
   "source": [
    "# Problem Code 5\n",
    "counter = 0\n",
    "\n",
    "def increment():\n",
    "\tcounter += 1\n",
    "\treturn counter\n",
    "\n",
    "increment()"
   ]
  },
  {
   "cell_type": "markdown",
   "metadata": {},
   "source": [
    "### Solution"
   ]
  },
  {
   "cell_type": "code",
   "execution_count": null,
   "metadata": {},
   "outputs": [],
   "source": [
    "# Solution Code 1\n",
    "def greet(name):\n",
    "\treturn f\"Hello, {name}!\"\n",
    "\n",
    "print(greet(\"Python\"))\n"
   ]
  },
  {
   "cell_type": "code",
   "execution_count": null,
   "metadata": {},
   "outputs": [],
   "source": [
    "# Solution Code 2\n",
    "def calculate_sum():\n",
    "\ttotal = a + b\n",
    "\treturn total\n",
    "\n",
    "a = 5\n",
    "b = 10\n",
    "print(calculate_sum())"
   ]
  },
  {
   "cell_type": "code",
   "execution_count": null,
   "metadata": {},
   "outputs": [],
   "source": [
    "# Solution Code 3\n",
    "def get_dimensions():\n",
    "\twidth = 5\n",
    "\theight = 10\n",
    "\treturn width, height\n",
    "\n",
    "dimensions = get_dimensions()\n",
    "print(f\"Width: {dimensions[0]}, Height: {dimensions[1]}\")\n"
   ]
  },
  {
   "cell_type": "code",
   "execution_count": null,
   "metadata": {},
   "outputs": [],
   "source": [
    "# Solution Code 4\n",
    "def append_to_list(value, lst=None):\n",
    "\tif lst is None:\n",
    "\t\tlst = []\n",
    "\tlst.append(value)\n",
    "\treturn lst\n",
    "\n",
    "print(append_to_list(1))\n",
    "print(append_to_list(2))"
   ]
  },
  {
   "cell_type": "code",
   "execution_count": null,
   "metadata": {},
   "outputs": [],
   "source": [
    "# Solution Code 5\n",
    "counter = 0\n",
    "\n",
    "def increment():\n",
    "\tglobal counter\n",
    "\tcounter += 1\n",
    "\treturn counter\n",
    "\n",
    "increment()\n",
    "print(counter)"
   ]
  }
 ],
 "metadata": {
  "kernelspec": {
   "display_name": "bisma-python-certification",
   "language": "python",
   "name": "python3"
  },
  "language_info": {
   "codemirror_mode": {
    "name": "ipython",
    "version": 3
   },
   "file_extension": ".py",
   "mimetype": "text/x-python",
   "name": "python",
   "nbconvert_exporter": "python",
   "pygments_lexer": "ipython3",
   "version": "3.10.13"
  }
 },
 "nbformat": 4,
 "nbformat_minor": 2
}
