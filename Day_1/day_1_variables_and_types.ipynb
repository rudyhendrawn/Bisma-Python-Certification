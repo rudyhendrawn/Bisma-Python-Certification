{
 "cells": [
  {
   "cell_type": "markdown",
   "id": "7112c973",
   "metadata": {},
   "source": [
    "# Python Sertification Training\n",
    "\n",
    "Subject: Python Basics\n",
    "\n",
    "Sub-Topics:\n",
    "1. Operations using Data Types and Operators\n",
    "2. Flow Control with Decisions and Loops\n",
    "3. Code Documentations and Structures\n",
    "4. Troubleshooting and Error Handling\n",
    "5. Operations using Modules and Tools\n",
    "\n",
    "These sub-topics are the basic building blocks of Python programming language. This training will cover the basic concepts of Python programming language, including:\n",
    "\n",
    "Day 1:\n",
    "- Variables and Data Types\n",
    "- Looping\n",
    "- Conditional Statements/Decision Making\n",
    "- Lists\n",
    "\n",
    "Day 2:\n",
    "- Functions\n",
    "- Modules\n",
    "- File Handling and I/O Operations\n",
    "\n",
    "Day 3:\n",
    "- Exception Handling\n",
    "- Classes and Objects\n",
    "- Arguments and Parameters"
   ]
  },
  {
   "cell_type": "markdown",
   "id": "b13baf18",
   "metadata": {},
   "source": [
    "## Variables and Types"
   ]
  },
  {
   "cell_type": "markdown",
   "id": "5d5dfbe3",
   "metadata": {},
   "source": [
    "### Numbers"
   ]
  },
  {
   "cell_type": "code",
   "execution_count": null,
   "id": "4c570c2a",
   "metadata": {},
   "outputs": [],
   "source": [
    "# Integer\n",
    "myint = 7\n",
    "print(myint)"
   ]
  },
  {
   "cell_type": "code",
   "execution_count": null,
   "id": "aac579ca",
   "metadata": {},
   "outputs": [],
   "source": [
    "# Float\n",
    "myfloat = 7.0\n",
    "print(myfloat)\n",
    "myfloat = float(100)\n",
    "print(myfloat)"
   ]
  },
  {
   "cell_type": "code",
   "execution_count": null,
   "id": "67b464b9",
   "metadata": {},
   "outputs": [],
   "source": [
    "# Float\n",
    "x = 35e3\n",
    "y = 12E4\n",
    "z = -87.7e100\n",
    "\n",
    "print(type(x))\n",
    "print(type(y))\n",
    "print(type(z))\n",
    "print(x)\n",
    "print(y)\n",
    "print(z)"
   ]
  },
  {
   "cell_type": "code",
   "execution_count": null,
   "id": "05a299bc",
   "metadata": {},
   "outputs": [],
   "source": [
    "# Complex\n",
    "mycomplex = 7 + 3j\n",
    "print(mycomplex)"
   ]
  },
  {
   "cell_type": "code",
   "execution_count": null,
   "id": "32f1d171",
   "metadata": {},
   "outputs": [],
   "source": [
    "# Complex\n",
    "x = 3+5j\n",
    "y = 5j\n",
    "z = -5j\n",
    "\n",
    "print(type(x))\n",
    "print(type(y))\n",
    "print(type(z))"
   ]
  },
  {
   "cell_type": "markdown",
   "id": "138dffc0",
   "metadata": {},
   "source": [
    "### Strings"
   ]
  },
  {
   "cell_type": "code",
   "execution_count": null,
   "id": "3a09000b",
   "metadata": {},
   "outputs": [],
   "source": [
    "mystring = 'hello'\n",
    "print(mystring)\n",
    "mystring = \"hello\"\n",
    "print(mystring)"
   ]
  },
  {
   "cell_type": "code",
   "execution_count": null,
   "id": "7e6173b2",
   "metadata": {},
   "outputs": [],
   "source": [
    "mystring = \"Don't worry about apostrophes\"\n",
    "print(mystring)"
   ]
  },
  {
   "cell_type": "code",
   "execution_count": null,
   "id": "d931581a",
   "metadata": {},
   "outputs": [],
   "source": [
    "one = 1\n",
    "two = 2\n",
    "three = one + two\n",
    "print(three)\n",
    "\n",
    "hello = \"hello\"\n",
    "world = \"world\"\n",
    "helloworld = hello + \" \" + world\n",
    "print(helloworld)"
   ]
  },
  {
   "cell_type": "code",
   "execution_count": null,
   "id": "3dbeaf68",
   "metadata": {},
   "outputs": [],
   "source": [
    "# Mixing numbers and strings is not supported\n",
    "# This will not work!\n",
    "one = 1\n",
    "two = 2\n",
    "hello = \"hello\"\n",
    "\n",
    "print(one + two + hello)"
   ]
  },
  {
   "cell_type": "code",
   "execution_count": null,
   "id": "19717234",
   "metadata": {},
   "outputs": [],
   "source": [
    "print(two * hello)"
   ]
  },
  {
   "cell_type": "code",
   "execution_count": null,
   "id": "a2e27250",
   "metadata": {},
   "outputs": [],
   "source": [
    "print(hello * 3)"
   ]
  },
  {
   "cell_type": "markdown",
   "id": "1ac7dec5",
   "metadata": {},
   "source": [
    "### Exercise"
   ]
  },
  {
   "cell_type": "code",
   "execution_count": null,
   "id": "d586336e",
   "metadata": {},
   "outputs": [],
   "source": [
    "# change this code\n",
    "mystring = \"hello\"\n",
    "myfloat = \"10.0\"\n",
    "myint = 20\n",
    "\n",
    "# testing code\n",
    "if mystring == \"hello\":\n",
    "    print(\"String: %s\" % mystring)\n",
    "if isinstance(myfloat, float) and myfloat == 10.0:\n",
    "    print(\"Float: %f\" % myfloat)\n",
    "if isinstance(myint, int) and myint == 20:\n",
    "    print(\"Integer: %d\" % myint)"
   ]
  },
  {
   "cell_type": "markdown",
   "id": "1e751434",
   "metadata": {},
   "source": [
    "The `isinstance` function is a built-in function in Python that checks if an object is an instance or subclass of a specified class type. It returns `True` if the object is an instance of the specified class type, and `False` otherwise.\n",
    "\n",
    "The `isinstance` function takes two parameters:\n",
    "\n",
    "1. `object`: The object that you want to check.\n",
    "2. `classinfo`: The class, type, or tuple of classes and types."
   ]
  },
  {
   "cell_type": "markdown",
   "id": "7c5250e1",
   "metadata": {},
   "source": [
    "### Boolean\n",
    "\n",
    "1. Logical **AND** (`and`): This operation returns True if both the operands (i.e., the values on its left and right) are true.\n",
    "2. Logical **OR** (`or`): This operation returns True if at least one of the operands is true.\n",
    "3. Logical **NOT** (`not`): This operation returns the opposite of the operand's value. If the operand is True, it returns False, and if the operand is False, it returns True."
   ]
  },
  {
   "cell_type": "code",
   "execution_count": null,
   "id": "bbcaf6a2",
   "metadata": {},
   "outputs": [],
   "source": [
    "# AND\n",
    "x = True\n",
    "y = False\n",
    "print(x and y)  # Outputs: False"
   ]
  },
  {
   "cell_type": "code",
   "execution_count": null,
   "id": "19508dac",
   "metadata": {},
   "outputs": [],
   "source": [
    "# OR\n",
    "x = True\n",
    "y = False\n",
    "print(x or y)  # Outputs: True"
   ]
  },
  {
   "cell_type": "code",
   "execution_count": null,
   "id": "ef09eb02",
   "metadata": {},
   "outputs": [],
   "source": [
    "# NOT\n",
    "x = True\n",
    "print(not x)  # Outputs: False"
   ]
  },
  {
   "cell_type": "markdown",
   "id": "45378a0a",
   "metadata": {},
   "source": [
    "### Many Values to Multiple Variables"
   ]
  },
  {
   "cell_type": "code",
   "execution_count": null,
   "id": "52388445",
   "metadata": {},
   "outputs": [],
   "source": [
    "x, y, z, a = \"Orange\", \"Banana\", \"Cherry\", \"Apple\"\n",
    "print(x)\n",
    "print(y)\n",
    "print(z)\n",
    "print(a)"
   ]
  },
  {
   "cell_type": "markdown",
   "id": "a64c0dcc",
   "metadata": {},
   "source": [
    "### One Value to Multiple Variables"
   ]
  },
  {
   "cell_type": "code",
   "execution_count": null,
   "id": "2a4ed244",
   "metadata": {},
   "outputs": [],
   "source": [
    "x = y = z = \"Orange\"\n",
    "print(x)\n",
    "print(y)\n",
    "print(z)"
   ]
  },
  {
   "cell_type": "markdown",
   "id": "74da0497",
   "metadata": {},
   "source": [
    "### Unpack a Collection"
   ]
  },
  {
   "cell_type": "code",
   "execution_count": null,
   "id": "6d900314",
   "metadata": {},
   "outputs": [],
   "source": [
    "fruits = [\"apple\", \"banana\", \"cherry\"]\n",
    "x, y, z = fruits\n",
    "print(x)\n",
    "print(y)\n",
    "print(z)"
   ]
  },
  {
   "cell_type": "markdown",
   "id": "f14db3b9",
   "metadata": {},
   "source": [
    "### Casting"
   ]
  },
  {
   "cell_type": "markdown",
   "id": "72aca128",
   "metadata": {},
   "source": [
    "There may be times when you want to specify a type on to a variable. This can be done with casting. Python is an object-orientated language, and as such it uses classes to define data types, including its primitive types.\n",
    "\n",
    "Casting in python is therefore done using constructor functions:\n",
    "\n",
    "- `int()` - constructs an integer number from an integer literal, a float literal (by removing all decimals), or a string literal (providing the string represents a whole number)\n",
    "- `float()` - constructs a float number from an integer literal, a float literal or a string literal (providing the string represents a float or an integer)\n",
    "- `str()` - constructs a string from a wide variety of data types, including strings, integer literals and float literals\n",
    "\n",
    "Source: [W3Schools](https://www.w3schools.com/python/python_casting.asp)"
   ]
  },
  {
   "cell_type": "code",
   "execution_count": null,
   "id": "2df72629",
   "metadata": {},
   "outputs": [],
   "source": [
    "x = int(1)   # x will be 1\n",
    "y = int(2.8) # y will be 2\n",
    "z = int(\"3\") # z will be 3\n",
    "\n",
    "# Print x, y, z"
   ]
  },
  {
   "cell_type": "code",
   "execution_count": null,
   "id": "b2522328",
   "metadata": {},
   "outputs": [],
   "source": [
    "x = float(1)     # x will be 1.0\n",
    "y = float(2.8)   # y will be 2.8\n",
    "z = float(\"3\")   # z will be 3.0\n",
    "w = float(\"4.2\") # w will be 4.2\n",
    "\n",
    "# Print x, y, z, w\n",
    "print(\"x: {}, y: {}, z: {}, w: {}\".format(x, y, z, w))\n",
    "print(\"x:\", x, \"y: \", y, \"z: \", z, \"w: \", w)"
   ]
  },
  {
   "cell_type": "code",
   "execution_count": null,
   "id": "9b6a39b4",
   "metadata": {},
   "outputs": [],
   "source": [
    "x = str(\"s1\") # x will be 's1'\n",
    "y = str(2)    # y will be '2'\n",
    "z = str(3.0)  # z will be '3.0'\n",
    "\n",
    "# Print x, y, z\n",
    "print(x)\n",
    "print(y)\n",
    "print(z)"
   ]
  },
  {
   "cell_type": "markdown",
   "id": "4c3366de",
   "metadata": {},
   "source": [
    "## Arithmetic Operations"
   ]
  },
  {
   "cell_type": "code",
   "execution_count": null,
   "id": "da167997",
   "metadata": {},
   "outputs": [],
   "source": [
    "# Addition\n",
    "x = 5\n",
    "y = 3\n",
    "print(\"Addition: {} + {} = {}\".format(x, y, x + y))\n",
    "\n",
    "# Subtraction\n",
    "x = 5\n",
    "y = 3\n",
    "print(\"Substraction: {} - {} = {}\".format(x, y, x - y))\n",
    "\n",
    "# Multiplication\n",
    "x = 5\n",
    "y = 3\n",
    "print(\"Multiplication: {} x {} = {}\".format(x, y, x * y))\n",
    "\n",
    "# Division\n",
    "x = 12\n",
    "y = 7\n",
    "print(\"Division: {} / {} = {}\".format(x, y, x / y))\n",
    "\n",
    "# Modulus\n",
    "x = 5\n",
    "y = 2\n",
    "print(\"Modulus: {} mod {} = {}\".format(x, y, x % y))\n",
    "\n",
    "# Exponentiation\n",
    "x = 2\n",
    "y = 5\n",
    "print(\"Exponentiation: {} ** {} = {}\".format(x, y, x ** y))\n",
    "\n",
    "# Floor division\n",
    "x = 15\n",
    "y = 2\n",
    "print(\"Floor Division: {} // {} == {}\".format(x, y, x // y))"
   ]
  },
  {
   "cell_type": "markdown",
   "id": "fae79db7",
   "metadata": {},
   "source": [
    "### Exercise"
   ]
  },
  {
   "cell_type": "code",
   "execution_count": null,
   "id": "18081c58",
   "metadata": {},
   "outputs": [],
   "source": [
    "v1 = 9\n",
    "v2 = 4\n",
    "x = ((v1 % v2 * 10)//2.0 ** 3.0 + v2)\n",
    "\n",
    "# What is the value of x?\n",
    "print(x)\n",
    "print(v1 % v2 * 10)\n",
    "print((v1 % v2 * 10)//2.0)\n",
    "print(2.0 ** 3.0)"
   ]
  },
  {
   "cell_type": "code",
   "execution_count": null,
   "id": "71d724f0",
   "metadata": {},
   "outputs": [],
   "source": [
    "from random import randrange\n",
    "print(randarange(5, 105, 5))"
   ]
  },
  {
   "cell_type": "code",
   "execution_count": null,
   "id": "d8e5b88a",
   "metadata": {},
   "outputs": [],
   "source": [
    "x = 'orange'\n",
    "y = 'apple'\n",
    "z = 'banana'\n",
    "data = '{1} and {0} and {2}'\n",
    "print(data.format(z, y, x))"
   ]
  }
 ],
 "metadata": {
  "kernelspec": {
   "display_name": "Python 3 (ipykernel)",
   "language": "python",
   "name": "python3"
  },
  "language_info": {
   "codemirror_mode": {
    "name": "ipython",
    "version": 3
   },
   "file_extension": ".py",
   "mimetype": "text/x-python",
   "name": "python",
   "nbconvert_exporter": "python",
   "pygments_lexer": "ipython3",
   "version": "3.10.13"
  }
 },
 "nbformat": 4,
 "nbformat_minor": 5
}
