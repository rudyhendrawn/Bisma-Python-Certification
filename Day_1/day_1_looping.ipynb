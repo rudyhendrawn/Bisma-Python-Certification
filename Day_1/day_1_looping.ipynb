{
 "cells": [
  {
   "cell_type": "markdown",
   "metadata": {},
   "source": [
    "## For Loops"
   ]
  },
  {
   "cell_type": "code",
   "execution_count": null,
   "metadata": {},
   "outputs": [],
   "source": [
    "fruits = [\"apple\", \"banana\", \"cherry\"]\n",
    "for x in fruits:\n",
    "\tprint(x)"
   ]
  },
  {
   "cell_type": "code",
   "execution_count": null,
   "metadata": {},
   "outputs": [],
   "source": [
    "for x in \"banana\":\n",
    "\tprint(x)"
   ]
  },
  {
   "cell_type": "markdown",
   "metadata": {},
   "source": [
    "### The break Statement"
   ]
  },
  {
   "cell_type": "code",
   "execution_count": null,
   "metadata": {},
   "outputs": [],
   "source": [
    "fruits = [\"apple\", \"banana\", \"cherry\"]\n",
    "for x in fruits:\n",
    "\tprint(x)\n",
    "\tif x == \"banana\":\n",
    "\t\tbreak"
   ]
  },
  {
   "cell_type": "code",
   "execution_count": null,
   "metadata": {},
   "outputs": [],
   "source": [
    "fruits = [\"apple\", \"banana\", \"cherry\"]\n",
    "for x in fruits:\n",
    "\tif x == \"banana\":\n",
    "\t\tbreak\n",
    "\tprint(x)"
   ]
  },
  {
   "cell_type": "markdown",
   "metadata": {},
   "source": [
    "### The continue Statement"
   ]
  },
  {
   "cell_type": "code",
   "execution_count": null,
   "metadata": {},
   "outputs": [],
   "source": [
    "fruits = [\"apple\", \"banana\", \"cherry\"]\n",
    "for x in fruits:\n",
    "\tif x == \"banana\":\n",
    "\t\tcontinue\n",
    "\tprint(x)"
   ]
  },
  {
   "cell_type": "markdown",
   "metadata": {},
   "source": [
    "### The `range()` Function\n",
    "\n",
    "To loop through a set of code a specified number of times, we can use the `range()` function. The `range()` function returns a sequence of numbers, starting from 0 by default, and increments by 1 (by default), and ends at a specified number."
   ]
  },
  {
   "cell_type": "code",
   "execution_count": null,
   "metadata": {},
   "outputs": [],
   "source": [
    "for x in range(6):\n",
    "\tprint(x)"
   ]
  },
  {
   "cell_type": "markdown",
   "metadata": {},
   "source": [
    "The `range()` function defaults to 0 as a starting value, however it is possible to specify the starting value by adding a parameter: `range(2, 6)`, which means values from 2 to 6 (but not including 6):"
   ]
  },
  {
   "cell_type": "code",
   "execution_count": null,
   "metadata": {},
   "outputs": [],
   "source": [
    "for x in range(2, 6):\n",
    "\tprint(x)"
   ]
  },
  {
   "cell_type": "markdown",
   "metadata": {},
   "source": [
    "The `range()` function defaults to increment the sequence by 1, however it is possible to specify the increment value by adding a third parameter: `range(2, 30, 3)`:"
   ]
  },
  {
   "cell_type": "code",
   "execution_count": null,
   "metadata": {},
   "outputs": [],
   "source": [
    "for x in range(2, 30, 3):\n",
    "\tprint(x)"
   ]
  },
  {
   "cell_type": "markdown",
   "metadata": {},
   "source": [
    "### Else in For Loop\n",
    "\n",
    "The else keyword in a for loop specifies a block of code to be executed when the loop is finished:"
   ]
  },
  {
   "cell_type": "code",
   "execution_count": null,
   "metadata": {},
   "outputs": [],
   "source": [
    "for x in range(6):\n",
    "\tprint(x)\n",
    "else:\n",
    "\tprint(\"Finally finished!\")"
   ]
  },
  {
   "cell_type": "code",
   "execution_count": null,
   "metadata": {},
   "outputs": [],
   "source": [
    "for x in range(6):\n",
    "\tif x == 3: break\n",
    "\t\tprint(x)\n",
    "\telse:\n",
    "\t\tprint(\"Finally finished!\")"
   ]
  },
  {
   "cell_type": "markdown",
   "metadata": {},
   "source": [
    "### Nested Loops"
   ]
  },
  {
   "cell_type": "code",
   "execution_count": null,
   "metadata": {},
   "outputs": [],
   "source": [
    "adj = [\"red\", \"big\", \"tasty\"]\n",
    "fruits = [\"apple\", \"banana\", \"cherry\"]\n",
    "\n",
    "for x in adj:\n",
    "\tfor y in fruits:\n",
    "\t\tprint(x, y)"
   ]
  },
  {
   "cell_type": "markdown",
   "metadata": {},
   "source": [
    "### The pass Statement"
   ]
  },
  {
   "cell_type": "code",
   "execution_count": null,
   "metadata": {},
   "outputs": [],
   "source": [
    "for x in [0, 1, 2]:\n",
    "\tpass"
   ]
  },
  {
   "cell_type": "markdown",
   "metadata": {},
   "source": [
    "## The while Loop"
   ]
  },
  {
   "cell_type": "code",
   "execution_count": null,
   "metadata": {},
   "outputs": [],
   "source": [
    "i = 1\n",
    "while i < 6:\n",
    "\tprint(i)\n",
    "\ti += 1"
   ]
  },
  {
   "cell_type": "markdown",
   "metadata": {},
   "source": [
    "### The break Statement"
   ]
  },
  {
   "cell_type": "code",
   "execution_count": null,
   "metadata": {},
   "outputs": [],
   "source": [
    "i = 1\n",
    "while i < 6:\n",
    "\tprint(i)\n",
    "\tif i == 3:\n",
    "\t\tbreak\n",
    "\ti += 1"
   ]
  },
  {
   "cell_type": "markdown",
   "metadata": {},
   "source": [
    "### The continue Statement"
   ]
  },
  {
   "cell_type": "code",
   "execution_count": null,
   "metadata": {},
   "outputs": [],
   "source": [
    "i = 0\n",
    "while i < 6:\n",
    "\ti += 1\n",
    "\tif i == 3:\n",
    "\t\tcontinue\n",
    "\tprint(i)"
   ]
  },
  {
   "cell_type": "markdown",
   "metadata": {},
   "source": [
    "### The else Statement"
   ]
  },
  {
   "cell_type": "code",
   "execution_count": null,
   "metadata": {},
   "outputs": [],
   "source": [
    "i = 1\n",
    "while i < 6:\n",
    "\tprint(i)\n",
    "\ti += 1\n",
    "else:\n",
    "\tprint(\"i is no longer less than 6\")"
   ]
  },
  {
   "cell_type": "markdown",
   "metadata": {},
   "source": [
    "## Exercise\n",
    "\n",
    "1. Create a simple program that uses a `while` loop to multiply a variable `product` by a decreasing sequence of numbers starting from `n` and stopping before `n` reaches 3."
   ]
  },
  {
   "cell_type": "code",
   "execution_count": null,
   "metadata": {},
   "outputs": [],
   "source": [
    "product = 2\n",
    "n = 5\n",
    "while (n!=0):\n",
    "\tproduct *= n\n",
    "\tprint(product)\n",
    "\tn -= 1\n",
    "\tif n == 3:\n",
    "\t\tbreak"
   ]
  },
  {
   "cell_type": "markdown",
   "metadata": {},
   "source": [
    "2. Create a prime numbers from 2 to 100, using while p <= 100"
   ]
  },
  {
   "cell_type": "code",
   "execution_count": null,
   "metadata": {},
   "outputs": [],
   "source": [
    "p = 2\n",
    "while p <= 100:\n",
    "\t# Assume that p is prime\n",
    "\tis_prime = True\n",
    "\t# Check if p is prime\n",
    "\tfor i in range(2, p):\n",
    "\t\tif p % i == 0:\n",
    "\t\t\tis_prime = False\n",
    "\t\t\tbreak\n",
    "\t# If p is prime, print it\n",
    "\tif is_prime:\n",
    "\t\tprint(p, end=' ')\n",
    "\tp += 1"
   ]
  },
  {
   "cell_type": "markdown",
   "metadata": {},
   "source": [
    "3. Create a python code that will le a user guess a number from 1 to 10. The user is given 3 chances to guess the number. If the user guess the correct number, the program should display \"You win!\""
   ]
  },
  {
   "cell_type": "code",
   "execution_count": null,
   "metadata": {},
   "outputs": [],
   "source": [
    "import random\n",
    "\n",
    "number = random.randint(1, 10)\n",
    "chance = 1\n",
    "print(\"Guess the number: \")\n",
    "while chance <= 3:\n",
    "\tguess = int(input())\n",
    "\tif guess < number:\n",
    "\t\tprint(\"Your guess is too low\")\n",
    "\telif guess > number:\n",
    "\t\tprint(\"Your guess is too high\")\n",
    "\telse:\n",
    "\t\tprint(\"You win!\")\n",
    "\t\tbreak\n",
    "\tchance += 1"
   ]
  },
  {
   "cell_type": "markdown",
   "metadata": {},
   "source": [
    "4. Count the number of vowels in the given string using a for loop.\n",
    "\n",
    "- `string = \"Hello, World!\"`\n",
    "\n",
    "- `vowels = \"aeiouAEIOU\"`"
   ]
  },
  {
   "cell_type": "code",
   "execution_count": null,
   "metadata": {},
   "outputs": [],
   "source": [
    "# Solution:\n",
    "string = \"Hello, World!\"\n",
    "vowels = \"aeiouAEIOU\"\n",
    "vowel_count = sum(1 for char in string if char in vowels)\n",
    "print(vowel_count)"
   ]
  },
  {
   "cell_type": "markdown",
   "metadata": {},
   "source": [
    "5. Reverse the given string using a `while` loop.\n",
    "\n",
    "- `string_to_reverse = \"Python\"`"
   ]
  },
  {
   "cell_type": "code",
   "execution_count": null,
   "metadata": {},
   "outputs": [],
   "source": [
    "# Solution:\n",
    "string_to_reverse = \"Python\"\n",
    "reversed_string = \"\"\n",
    "index = len(string_to_reverse) - 1\n",
    "while index >= 0:\n",
    "\treversed_string += string_to_reverse[index]\n",
    "\tindex -= 1\n",
    "print(reversed_string)"
   ]
  },
  {
   "cell_type": "markdown",
   "metadata": {},
   "source": [
    "6. Check if the given string is a palindrome using a `for` loop.\n",
    "\n",
    "- `string_to_check = \"radar\"`"
   ]
  },
  {
   "cell_type": "code",
   "execution_count": null,
   "metadata": {},
   "outputs": [],
   "source": [
    "# Solution using normal looping structures:\n",
    "string_to_check = \"radar\"\n",
    "is_palindrome = True\n",
    "for i in range(len(string_to_check) // 2):\n",
    "\tif string_to_check[i] != string_to_check[-i-1]:\n",
    "\t\tis_palindrome = False\n",
    "\t\tbreak\n",
    "print(is_palindrome)"
   ]
  },
  {
   "cell_type": "code",
   "execution_count": null,
   "metadata": {},
   "outputs": [],
   "source": [
    "# Solution using list comprehension:\n",
    "string_to_check = \"radar\"\n",
    "is_palindrome = all(string_to_check[i] == string_to_check[-i-1] for i in range(len(string_to_check) // 2))\n",
    "print(is_palindrome)"
   ]
  },
  {
   "cell_type": "markdown",
   "metadata": {},
   "source": [
    "7. Concatenate all strings in the given list into a single string using a `for` loop.\n",
    "\n",
    "- `string_list = [\"Python\", \"is\", \"awesome\"]`"
   ]
  },
  {
   "cell_type": "code",
   "execution_count": null,
   "metadata": {},
   "outputs": [],
   "source": [
    "# Solution using normal looping structures:\n",
    "string_list = [\"Python\", \"is\", \"awesome\"]\n",
    "concatenated_string = \"\"\n",
    "for str in string_list:\n",
    "\tconcatenated_string += str\n",
    "print(concatenated_string)"
   ]
  },
  {
   "cell_type": "code",
   "execution_count": null,
   "metadata": {},
   "outputs": [],
   "source": [
    "# Solution using list comprehension:\n",
    "string_list = [\"Python\", \"is\", \"awesome\"]\n",
    "concatenated_string = \"\".join([str for str in string_list])\n",
    "print(concatenated_string)"
   ]
  },
  {
   "cell_type": "markdown",
   "metadata": {},
   "source": [
    "8. Find and replace all occurrences of 'a' with '*' in the given string using a `for` loop.\n",
    "\n",
    "- `original_string = \"Banana\"`"
   ]
  },
  {
   "cell_type": "code",
   "execution_count": null,
   "metadata": {},
   "outputs": [],
   "source": [
    "# Solution using normal looping structures:\n",
    "original_string = \"Banana\"\n",
    "modified_string = \"\"\n",
    "for char in original_string:\n",
    "\tif char == 'a':\n",
    "\t\tmodified_string += '*'\n",
    "\telse:\n",
    "\t\tmodified_string += char\n",
    "print(modified_string)"
   ]
  },
  {
   "cell_type": "code",
   "execution_count": null,
   "metadata": {},
   "outputs": [],
   "source": [
    "# Solution using list comprehension:\n",
    "original_string = \"Banana\"\n",
    "modified_string = \"\".join(['*' if char == 'a' else char for char in original_string])\n",
    "print(modified_string)"
   ]
  }
 ],
 "metadata": {
  "kernelspec": {
   "display_name": "bisma-python-certification",
   "language": "python",
   "name": "python3"
  },
  "language_info": {
   "name": "python",
   "version": "3.10.13"
  }
 },
 "nbformat": 4,
 "nbformat_minor": 2
}
